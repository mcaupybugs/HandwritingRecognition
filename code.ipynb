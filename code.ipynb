{
 "metadata": {
  "language_info": {
   "codemirror_mode": {
    "name": "ipython",
    "version": 3
   },
   "file_extension": ".py",
   "mimetype": "text/x-python",
   "name": "python",
   "nbconvert_exporter": "python",
   "pygments_lexer": "ipython3",
   "version": "3.6.10-final"
  },
  "orig_nbformat": 2,
  "kernelspec": {
   "name": "python361064bitbasecondae0f52b00d66e4771b9f6f763f4d6dfb8",
   "display_name": "Python 3.6.10 64-bit ('base': conda)"
  }
 },
 "nbformat": 4,
 "nbformat_minor": 2,
 "cells": [
  {
   "cell_type": "code",
   "execution_count": 2,
   "metadata": {},
   "outputs": [],
   "source": [
    "import numpy as np\n",
    "import pandas as pd\n",
    "import matplotlib.pyplot as plt\n",
    "\n",
    "import tensorflow as tf\n"
   ]
  },
  {
   "cell_type": "code",
   "execution_count": 6,
   "metadata": {},
   "outputs": [],
   "source": [
    "train = pd.read_csv('./data/written_name_train_v2.csv')\n",
    "valid = pd.read_csv('./data/written_name_validation_v2.csv')"
   ]
  },
  {
   "cell_type": "code",
   "execution_count": 7,
   "metadata": {},
   "outputs": [
    {
     "output_type": "execute_result",
     "data": {
      "text/plain": "<bound method NDFrame.head of                 FILENAME       IDENTITY\n0        TRAIN_00001.jpg      BALTHAZAR\n1        TRAIN_00002.jpg          SIMON\n2        TRAIN_00003.jpg          BENES\n3        TRAIN_00004.jpg        LA LOVE\n4        TRAIN_00005.jpg         DAPHNE\n...                  ...            ...\n330956  TRAIN_330957.jpg          LENNY\n330957  TRAIN_330958.jpg        TIFFANY\n330958  TRAIN_330959.jpg  COUTINHO DESA\n330959  TRAIN_330960.jpg         MOURAD\n330960  TRAIN_330961.jpg        HELOISE\n\n[330961 rows x 2 columns]>"
     },
     "metadata": {},
     "execution_count": 7
    }
   ],
   "source": [
    "train.head"
   ]
  },
  {
   "cell_type": "code",
   "execution_count": 10,
   "metadata": {
    "tags": []
   },
   "outputs": [
    {
     "output_type": "stream",
     "name": "stdout",
     "text": "Number of train NaN: 565\nNumber of train NaN: 78\n"
    }
   ],
   "source": [
    "#Cleaning the data \n",
    "print(\"Number of train NaN:\",train['IDENTITY'].isnull().sum())\n",
    "print(\"Number of train NaN:\",valid['IDENTITY'].isnull().sum())"
   ]
  },
  {
   "cell_type": "code",
   "execution_count": 11,
   "metadata": {},
   "outputs": [],
   "source": [
    "#Dropping NaN Values \n",
    "train.dropna(axis=0,inplace=True)\n",
    "valid.dropna(axis=0,inplace=True)"
   ]
  },
  {
   "cell_type": "code",
   "execution_count": null,
   "metadata": {},
   "outputs": [],
   "source": []
  }
 ]
}